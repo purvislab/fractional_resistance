{
 "cells": [
  {
   "cell_type": "code",
   "execution_count": null,
   "metadata": {},
   "outputs": [],
   "source": [
    "from utils import *\n",
    "import anndata"
   ]
  },
  {
   "attachments": {},
   "cell_type": "markdown",
   "metadata": {},
   "source": [
    "### Read in annotated data object containing both T47D and tumor samples"
   ]
  },
  {
   "cell_type": "code",
   "execution_count": null,
   "metadata": {},
   "outputs": [],
   "source": [
    "directory = 'data'\n",
    "filename = 'sketched_integrated'\n",
    "\n",
    "colors_dict = {'G0':'#5CAD92',\n",
    "                'G1':'#594997',\n",
    "                'G2M':'#E7739A',\n",
    "                'S':'#0099CC'}\n",
    "\n",
    "# read in merged anndata\n",
    "adata = anndata.read(os.path.join('data', filename + '.h5ad'))\n",
    "\n",
    "# binarize labels: 0 = untreated, 1 = treated (i.e. 10, 100nM)\n",
    "adata.obs['condition'] = 'nan'\n",
    "adata.obs['condition'].values[adata.obs['well'] == '0'] = '0'\n",
    "adata.obs['condition'].values[adata.obs['well'] != '0'] = '1'"
   ]
  },
  {
   "attachments": {},
   "cell_type": "markdown",
   "metadata": {},
   "source": [
    "### Perform logistic regression analysis for T47D"
   ]
  },
  {
   "cell_type": "code",
   "execution_count": null,
   "metadata": {},
   "outputs": [],
   "source": [
    "## plot mean expression of each marker\n",
    "origin = 'T47D'\n",
    "adata_run = adata[adata.obs['Origin'] == origin].copy()\n",
    "mean_barplots(adata = adata_run, feature_order = ['pRB_over_RB', 'Ki67', 'pRB', 'RB', 'CDK2', 'CDK4', 'cycD1', 'cycE', 'Cdt1', 'E2F1', 'DNA', 'cycA', 'cycB1', 'p21'], colors_dict = colors_dict, ylim = [-1, 2.5], filename_save = origin+'_barplots.pdf')\n",
    "\n",
    "## run logistic regression on T47D\n",
    "adata_run = adata_run[:, adata_run.var_names != 'pRB_over_RB'].copy()\n",
    "run_logistic_regression(adata = adata_run, groups = ['G0', 'G1', 'S', 'G2M'], origin = origin, condition_key = 'condition', labels_key = 'phase', n_splits = 5, save_directory = 'figures', ylim = [-10.5, 2.5])"
   ]
  },
  {
   "attachments": {},
   "cell_type": "markdown",
   "metadata": {},
   "source": [
    "### Perform logistic regression analysis for tumor"
   ]
  },
  {
   "cell_type": "code",
   "execution_count": null,
   "metadata": {},
   "outputs": [],
   "source": [
    "## plot mean expression of each marker\n",
    "origin = 'Tumor'\n",
    "adata_run = adata[adata.obs['Origin'] == origin].copy()\n",
    "mean_barplots(adata = adata_run, feature_order = ['pRB_over_RB', 'Ki67', 'pRB', 'RB', 'CDK2', 'CDK4', 'cycD1', 'cycE', 'Cdt1', 'E2F1', 'DNA', 'cycA', 'cycB1', 'p21'], ylim = [-1, 3.5], colors_dict = colors_dict, filename_save = origin+'_barplots.pdf')\n",
    "\n",
    "## run logistic regression on tumor\n",
    "adata_run = adata_run[:, adata_run.var_names != 'pRB_over_RB'].copy()\n",
    "run_logistic_regression(adata = adata_run, groups = ['G0', 'G1', 'S', 'G2M'], origin = origin, condition_key = 'condition', labels_key = 'phase', n_splits = 5, save_directory = 'figures', ylim = [-3.5, 1])"
   ]
  }
 ],
 "metadata": {
  "kernelspec": {
   "display_name": "Python 3.9.10 ('venv_fs_april23')",
   "language": "python",
   "name": "python3"
  },
  "language_info": {
   "codemirror_mode": {
    "name": "ipython",
    "version": 3
   },
   "file_extension": ".py",
   "mimetype": "text/x-python",
   "name": "python",
   "nbconvert_exporter": "python",
   "pygments_lexer": "ipython3",
   "version": "3.9.16"
  },
  "orig_nbformat": 4,
  "vscode": {
   "interpreter": {
    "hash": "03e0b82734fcb53b7bb511264e3d96aa29885d258270ff560db37d78b3f337b2"
   }
  }
 },
 "nbformat": 4,
 "nbformat_minor": 2
}
