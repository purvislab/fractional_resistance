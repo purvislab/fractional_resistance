{
 "cells": [
  {
   "cell_type": "code",
   "execution_count": null,
   "metadata": {},
   "outputs": [],
   "source": [
    "import os\n",
    "import anndata\n",
    "import pandas as pd\n",
    "from kh import sketch\n",
    "from utils import *"
   ]
  },
  {
   "attachments": {},
   "cell_type": "markdown",
   "metadata": {},
   "source": [
    "### Read in preprocessed T47D replicate, perform kernel herding sketching, and save files"
   ]
  },
  {
   "cell_type": "code",
   "execution_count": null,
   "metadata": {},
   "outputs": [],
   "source": [
    "directory = 'data'\n",
    "t47_rep_ad = anndata.read_h5ad(os.path.join(directory, 'T47D_replicate_preprocessed.h5ad'))\n",
    "kh_indices_t47_rep_ad, t47_rep_ad_subsample = sketch(t47_rep_ad, sample_set_key = 'well', gamma = 1, num_subsamples = 2000, n_jobs = -1, frequency_seed = 0)"
   ]
  },
  {
   "cell_type": "code",
   "execution_count": null,
   "metadata": {},
   "outputs": [],
   "source": [
    "t47_rep_ad_subsample.write(os.path.join(directory, 'sketched_rep.h5ad'))\n",
    "\n",
    "sketched_rep_df = pd.DataFrame(t47_rep_ad_subsample.X, index = t47_rep_ad_subsample.obs_names, columns = t47_rep_ad_subsample.var_names)\n",
    "sketched_rep_df = pd.concat([sketched_rep_df, t47_rep_ad_subsample.obs], axis = 1)\n",
    "sketched_rep_df.to_csv(os.path.join(directory, 'sketched_rep_df.csv'))"
   ]
  },
  {
   "attachments": {},
   "cell_type": "markdown",
   "metadata": {},
   "source": [
    "### Perform logistic regression analysis on the replicate"
   ]
  },
  {
   "cell_type": "code",
   "execution_count": null,
   "metadata": {},
   "outputs": [],
   "source": [
    "## logistic regression\n",
    "directory = 'data'\n",
    "filename = 'sketched_rep'\n",
    "\n",
    "colors_dict = {'G0':'#5CAD92',\n",
    "                'G1':'#594997',\n",
    "                'G2M':'#E7739A',\n",
    "                'S':'#0099CC'}\n",
    "\n",
    "## read in merged anndata\n",
    "adata = anndata.read(os.path.join('data', filename + '.h5ad'))\n",
    "adata.obs['phase'] = adata.obs['phase'].cat.rename_categories({'G0':'G0', 'G1':'G1', 'G2/M':'G2M','S':'S'})\n",
    "\n",
    "## binarize labels: 0 = untreated, 1 = treated (i.e. 10, 100nM)\n",
    "adata.obs['condition'] = 'nan'\n",
    "adata.obs['condition'].values[adata.obs['well'] == '0'] = '0'\n",
    "adata.obs['condition'].values[adata.obs['well'] != '0'] = '1'\n",
    "\n",
    "## plot mean expression of each marker\n",
    "mean_barplots(adata = adata, feature_order = ['pRB_over_RB', 'Ki67', 'pRB', 'RB', 'CDK2', 'CDK4', 'cycD1', 'cycE', 'Cdt1', 'E2F1', 'DNA', 'cycA', 'cycB1', 'p21'], ylim = [-1, 3.5], colors_dict = colors_dict, save_directory = 'output', filename_save = 'T47D_rep_barplots')\n",
    "\n",
    "## run logistic regression on T47D replicate\n",
    "adata_run = adata[:, adata.var_names != 'pRB_over_RB'].copy()\n",
    "run_logistic_regression(adata = adata_run, groups = ['G0', 'G1', 'S', 'G2M'], origin = 'T47D_rep', condition_key = 'condition', labels_key = 'phase', n_splits = 5, save_directory = 'output', ylim = [-2.5, 2.5])"
   ]
  }
 ],
 "metadata": {
  "kernelspec": {
   "display_name": "Python 3.9.10 ('venv_fs_april23')",
   "language": "python",
   "name": "python3"
  },
  "language_info": {
   "codemirror_mode": {
    "name": "ipython",
    "version": 3
   },
   "file_extension": ".py",
   "mimetype": "text/x-python",
   "name": "python",
   "nbconvert_exporter": "python",
   "pygments_lexer": "ipython3",
   "version": "3.9.16"
  },
  "orig_nbformat": 4,
  "vscode": {
   "interpreter": {
    "hash": "03e0b82734fcb53b7bb511264e3d96aa29885d258270ff560db37d78b3f337b2"
   }
  }
 },
 "nbformat": 4,
 "nbformat_minor": 2
}
