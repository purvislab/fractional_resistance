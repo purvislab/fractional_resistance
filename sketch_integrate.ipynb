{
 "cells": [
  {
   "cell_type": "code",
   "execution_count": null,
   "metadata": {},
   "outputs": [],
   "source": [
    "import os\n",
    "import anndata\n",
    "import pandas as pd\n",
    "from kh import sketch\n",
    "from utils import *"
   ]
  },
  {
   "attachments": {},
   "cell_type": "markdown",
   "metadata": {},
   "source": [
    "### Read in preprocessed tumor and T47D annotated data objects"
   ]
  },
  {
   "cell_type": "code",
   "execution_count": null,
   "metadata": {},
   "outputs": [],
   "source": [
    "directory = 'data'\n",
    "\n",
    "tum_ad = anndata.read_h5ad(os.path.join(directory, 'tumor_preprocessed.h5ad'))\n",
    "t47_ad = anndata.read_h5ad(os.path.join(directory, 'T47D_preprocessed.h5ad'))"
   ]
  },
  {
   "attachments": {},
   "cell_type": "markdown",
   "metadata": {},
   "source": [
    "### Downsample cells using kernel herding sketching: see associated [paper](https://dl.acm.org/doi/abs/10.1145/3535508.3545539) and [GitHub](https://github.com/jranek/SketchKH)\n",
    "- finds 2000 protypical cells from each treatment condition (e.g. 0, 10, 100 nM)"
   ]
  },
  {
   "cell_type": "code",
   "execution_count": null,
   "metadata": {},
   "outputs": [],
   "source": [
    "kh_indices_tum, tum_ad_subsample = sketch(tum_ad, sample_set_key = 'well', gamma = 1, num_subsamples = 2000, n_jobs = -1, frequency_seed = 0)\n",
    "kh_indices_t47, t47_ad_subsample = sketch(t47_ad, sample_set_key = 'well', gamma = 1, num_subsamples = 2000, n_jobs = -1, frequency_seed = 0)"
   ]
  },
  {
   "attachments": {},
   "cell_type": "markdown",
   "metadata": {},
   "source": [
    "### Perform integration of tumor and T47D samples with [TRANSACT](https://www.pnas.org/doi/10.1073/pnas.2106682118)"
   ]
  },
  {
   "cell_type": "code",
   "execution_count": null,
   "metadata": {},
   "outputs": [],
   "source": [
    "tum_subsample_df = pd.DataFrame(tum_ad_subsample.X, index = tum_ad_subsample.obs_names, columns = tum_ad_subsample.var_names)\n",
    "t47_subsample_df = pd.DataFrame(t47_ad_subsample.X, index = t47_ad_subsample.obs_names, columns = t47_ad_subsample.var_names)\n",
    "\n",
    "integrated_df = transact_integrate(tum_subsample_df, t47_subsample_df)\n",
    "\n",
    "X_phate = compute_phate(integrated_df, n_components = 2, knn = 150)"
   ]
  },
  {
   "attachments": {},
   "cell_type": "markdown",
   "metadata": {},
   "source": [
    "### Save anndata object with embeddings and updated metadata\n",
    "- `adata.X`: preprocessed data, where subsampled cells from both samples are vertically concatenated\n",
    "- `adata.obs['Origin']`: metadata regarding sample origin\n",
    "- `adata.obsm['X_integrated']`: embedding following transact integration\n",
    "- `adata.obsm['X_phate']`: PHATE embedding following transact integration"
   ]
  },
  {
   "cell_type": "code",
   "execution_count": null,
   "metadata": {},
   "outputs": [],
   "source": [
    "origin_ids = ['Tumor']*len(tum_subsample_df.index) + ['T47D']*len(t47_subsample_df.index)\n",
    "origin_ids = ['Tumor']*len(tum_subsample_df.index) + ['T47D']*len(t47_subsample_df.index)\n",
    "cell_ids = list(tum_subsample_df.index) + list(t47_subsample_df.index)\n",
    "origin = pd.DataFrame(origin_ids, index = cell_ids)\n",
    "\n",
    "metadata = pd.concat([tum_ad_subsample.obs, t47_ad_subsample.obs], axis = 0)\n",
    "\n",
    "joined_df = pd.concat([tum_subsample_df, t47_subsample_df])\n",
    "sketched_integated = anndata.AnnData(joined_df)\n",
    "sketched_integated.obs = metadata.copy()\n",
    "sketched_integated.obs['Origin'] = origin.copy()\n",
    "sketched_integated.obsm['X_integrated'] = integrated_df.values\n",
    "sketched_integated.obsm['X_phate'] = X_phate.copy()\n",
    "\n",
    "sketched_integated.write(os.path.join(directory, 'sketched_integrated.h5ad'))"
   ]
  },
  {
   "attachments": {},
   "cell_type": "markdown",
   "metadata": {},
   "source": [
    "### Save df version for R analysis: See `ci.R`, `ti.R`"
   ]
  },
  {
   "cell_type": "code",
   "execution_count": null,
   "metadata": {},
   "outputs": [],
   "source": [
    "sketched_integrated_df = pd.concat([joined_df, sketched_integated.obs, pd.DataFrame(X_phate, index = joined_df.index, columns = ['PHATE_1', 'PHATE_2'])], axis = 1)\n",
    "sketched_integrated_df.to_csv(os.path.join(directory, 'sketched_integrated_df.csv'))"
   ]
  }
 ],
 "metadata": {
  "kernelspec": {
   "display_name": "Python 3.9.10 ('venv_fs_april23')",
   "language": "python",
   "name": "python3"
  },
  "language_info": {
   "codemirror_mode": {
    "name": "ipython",
    "version": 3
   },
   "file_extension": ".py",
   "mimetype": "text/x-python",
   "name": "python",
   "nbconvert_exporter": "python",
   "pygments_lexer": "ipython3",
   "version": "3.9.16"
  },
  "orig_nbformat": 4,
  "vscode": {
   "interpreter": {
    "hash": "03e0b82734fcb53b7bb511264e3d96aa29885d258270ff560db37d78b3f337b2"
   }
  }
 },
 "nbformat": 4,
 "nbformat_minor": 2
}
